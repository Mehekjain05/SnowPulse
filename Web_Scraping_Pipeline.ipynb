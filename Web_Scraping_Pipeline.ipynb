{
  "cells": [
    {
      "cell_type": "code",
      "execution_count": 1,
      "metadata": {
        "colab": {
          "base_uri": "https://localhost:8080/"
        },
        "id": "H7D2DZ5b2X6n",
        "outputId": "21309df8-f4e7-4979-86f5-7c8102a1dddf"
      },
      "outputs": [
        {
          "output_type": "stream",
          "name": "stdout",
          "text": [
            "Collecting snowflake-connector-python\n",
            "  Downloading snowflake_connector_python-3.12.2-cp310-cp310-manylinux_2_17_x86_64.manylinux2014_x86_64.whl.metadata (65 kB)\n",
            "\u001b[?25l     \u001b[90m━━━━━━━━━━━━━━━━━━━━━━━━━━━━━━━━━━━━━━━━\u001b[0m \u001b[32m0.0/65.3 kB\u001b[0m \u001b[31m?\u001b[0m eta \u001b[36m-:--:--\u001b[0m\r\u001b[2K     \u001b[91m━━━━━━━━━━━━━━━━━━━━━━━━━━━━━━━━━━━━━\u001b[0m\u001b[91m╸\u001b[0m\u001b[90m━━\u001b[0m \u001b[32m61.4/65.3 kB\u001b[0m \u001b[31m100.3 MB/s\u001b[0m eta \u001b[36m0:00:01\u001b[0m\r\u001b[2K     \u001b[90m━━━━━━━━━━━━━━━━━━━━━━━━━━━━━━━━━━━━━━━━\u001b[0m \u001b[32m65.3/65.3 kB\u001b[0m \u001b[31m1.0 MB/s\u001b[0m eta \u001b[36m0:00:00\u001b[0m\n",
            "\u001b[?25hRequirement already satisfied: requests in /usr/local/lib/python3.10/dist-packages (2.32.3)\n",
            "Collecting asn1crypto<2.0.0,>0.24.0 (from snowflake-connector-python)\n",
            "  Downloading asn1crypto-1.5.1-py2.py3-none-any.whl.metadata (13 kB)\n",
            "Requirement already satisfied: cffi<2.0.0,>=1.9 in /usr/local/lib/python3.10/dist-packages (from snowflake-connector-python) (1.17.1)\n",
            "Requirement already satisfied: cryptography>=3.1.0 in /usr/local/lib/python3.10/dist-packages (from snowflake-connector-python) (43.0.1)\n",
            "Requirement already satisfied: pyOpenSSL<25.0.0,>=16.2.0 in /usr/local/lib/python3.10/dist-packages (from snowflake-connector-python) (24.2.1)\n",
            "Requirement already satisfied: pyjwt<3.0.0 in /usr/local/lib/python3.10/dist-packages (from snowflake-connector-python) (2.9.0)\n",
            "Requirement already satisfied: pytz in /usr/local/lib/python3.10/dist-packages (from snowflake-connector-python) (2024.2)\n",
            "Requirement already satisfied: packaging in /usr/local/lib/python3.10/dist-packages (from snowflake-connector-python) (24.1)\n",
            "Requirement already satisfied: charset-normalizer<4,>=2 in /usr/local/lib/python3.10/dist-packages (from snowflake-connector-python) (3.3.2)\n",
            "Requirement already satisfied: idna<4,>=2.5 in /usr/local/lib/python3.10/dist-packages (from snowflake-connector-python) (3.10)\n",
            "Requirement already satisfied: certifi>=2017.4.17 in /usr/local/lib/python3.10/dist-packages (from snowflake-connector-python) (2024.8.30)\n",
            "Requirement already satisfied: typing-extensions<5,>=4.3 in /usr/local/lib/python3.10/dist-packages (from snowflake-connector-python) (4.12.2)\n",
            "Requirement already satisfied: filelock<4,>=3.5 in /usr/local/lib/python3.10/dist-packages (from snowflake-connector-python) (3.16.1)\n",
            "Requirement already satisfied: sortedcontainers>=2.4.0 in /usr/local/lib/python3.10/dist-packages (from snowflake-connector-python) (2.4.0)\n",
            "Requirement already satisfied: platformdirs<5.0.0,>=2.6.0 in /usr/local/lib/python3.10/dist-packages (from snowflake-connector-python) (4.3.6)\n",
            "Collecting tomlkit (from snowflake-connector-python)\n",
            "  Downloading tomlkit-0.13.2-py3-none-any.whl.metadata (2.7 kB)\n",
            "Requirement already satisfied: urllib3<3,>=1.21.1 in /usr/local/lib/python3.10/dist-packages (from requests) (2.2.3)\n",
            "Requirement already satisfied: pycparser in /usr/local/lib/python3.10/dist-packages (from cffi<2.0.0,>=1.9->snowflake-connector-python) (2.22)\n",
            "Downloading snowflake_connector_python-3.12.2-cp310-cp310-manylinux_2_17_x86_64.manylinux2014_x86_64.whl (2.5 MB)\n",
            "\u001b[2K   \u001b[90m━━━━━━━━━━━━━━━━━━━━━━━━━━━━━━━━━━━━━━━━\u001b[0m \u001b[32m2.5/2.5 MB\u001b[0m \u001b[31m22.3 MB/s\u001b[0m eta \u001b[36m0:00:00\u001b[0m\n",
            "\u001b[?25hDownloading asn1crypto-1.5.1-py2.py3-none-any.whl (105 kB)\n",
            "\u001b[2K   \u001b[90m━━━━━━━━━━━━━━━━━━━━━━━━━━━━━━━━━━━━━━━━\u001b[0m \u001b[32m105.0/105.0 kB\u001b[0m \u001b[31m6.1 MB/s\u001b[0m eta \u001b[36m0:00:00\u001b[0m\n",
            "\u001b[?25hDownloading tomlkit-0.13.2-py3-none-any.whl (37 kB)\n",
            "Installing collected packages: asn1crypto, tomlkit, snowflake-connector-python\n",
            "Successfully installed asn1crypto-1.5.1 snowflake-connector-python-3.12.2 tomlkit-0.13.2\n"
          ]
        }
      ],
      "source": [
        "!pip install snowflake-connector-python requests"
      ]
    },
    {
      "cell_type": "markdown",
      "metadata": {
        "id": "nkOooAAKHSy-"
      },
      "source": [
        "# SNOWFLAKES"
      ]
    },
    {
      "cell_type": "markdown",
      "metadata": {
        "id": "rsgnR4pqHVQw"
      },
      "source": [
        "# WEB SCRAPING"
      ]
    },
    {
      "cell_type": "code",
      "execution_count": 2,
      "metadata": {
        "colab": {
          "base_uri": "https://localhost:8080/"
        },
        "id": "9074eNLcZlMr",
        "outputId": "4d6fbbd8-135e-4548-e6b0-909aaf92b1dd"
      },
      "outputs": [
        {
          "output_type": "stream",
          "name": "stdout",
          "text": [
            "Collecting selenium\n",
            "  Downloading selenium-4.25.0-py3-none-any.whl.metadata (7.1 kB)\n",
            "Requirement already satisfied: urllib3<3,>=1.26 in /usr/local/lib/python3.10/dist-packages (from urllib3[socks]<3,>=1.26->selenium) (2.2.3)\n",
            "Collecting trio~=0.17 (from selenium)\n",
            "  Downloading trio-0.26.2-py3-none-any.whl.metadata (8.6 kB)\n",
            "Collecting trio-websocket~=0.9 (from selenium)\n",
            "  Downloading trio_websocket-0.11.1-py3-none-any.whl.metadata (4.7 kB)\n",
            "Requirement already satisfied: certifi>=2021.10.8 in /usr/local/lib/python3.10/dist-packages (from selenium) (2024.8.30)\n",
            "Requirement already satisfied: typing_extensions~=4.9 in /usr/local/lib/python3.10/dist-packages (from selenium) (4.12.2)\n",
            "Requirement already satisfied: websocket-client~=1.8 in /usr/local/lib/python3.10/dist-packages (from selenium) (1.8.0)\n",
            "Requirement already satisfied: attrs>=23.2.0 in /usr/local/lib/python3.10/dist-packages (from trio~=0.17->selenium) (24.2.0)\n",
            "Requirement already satisfied: sortedcontainers in /usr/local/lib/python3.10/dist-packages (from trio~=0.17->selenium) (2.4.0)\n",
            "Requirement already satisfied: idna in /usr/local/lib/python3.10/dist-packages (from trio~=0.17->selenium) (3.10)\n",
            "Collecting outcome (from trio~=0.17->selenium)\n",
            "  Downloading outcome-1.3.0.post0-py2.py3-none-any.whl.metadata (2.6 kB)\n",
            "Requirement already satisfied: sniffio>=1.3.0 in /usr/local/lib/python3.10/dist-packages (from trio~=0.17->selenium) (1.3.1)\n",
            "Requirement already satisfied: exceptiongroup in /usr/local/lib/python3.10/dist-packages (from trio~=0.17->selenium) (1.2.2)\n",
            "Collecting wsproto>=0.14 (from trio-websocket~=0.9->selenium)\n",
            "  Downloading wsproto-1.2.0-py3-none-any.whl.metadata (5.6 kB)\n",
            "Requirement already satisfied: pysocks!=1.5.7,<2.0,>=1.5.6 in /usr/local/lib/python3.10/dist-packages (from urllib3[socks]<3,>=1.26->selenium) (1.7.1)\n",
            "Collecting h11<1,>=0.9.0 (from wsproto>=0.14->trio-websocket~=0.9->selenium)\n",
            "  Downloading h11-0.14.0-py3-none-any.whl.metadata (8.2 kB)\n",
            "Downloading selenium-4.25.0-py3-none-any.whl (9.7 MB)\n",
            "\u001b[2K   \u001b[90m━━━━━━━━━━━━━━━━━━━━━━━━━━━━━━━━━━━━━━━━\u001b[0m \u001b[32m9.7/9.7 MB\u001b[0m \u001b[31m44.1 MB/s\u001b[0m eta \u001b[36m0:00:00\u001b[0m\n",
            "\u001b[?25hDownloading trio-0.26.2-py3-none-any.whl (475 kB)\n",
            "\u001b[2K   \u001b[90m━━━━━━━━━━━━━━━━━━━━━━━━━━━━━━━━━━━━━━━━\u001b[0m \u001b[32m476.0/476.0 kB\u001b[0m \u001b[31m21.2 MB/s\u001b[0m eta \u001b[36m0:00:00\u001b[0m\n",
            "\u001b[?25hDownloading trio_websocket-0.11.1-py3-none-any.whl (17 kB)\n",
            "Downloading wsproto-1.2.0-py3-none-any.whl (24 kB)\n",
            "Downloading outcome-1.3.0.post0-py2.py3-none-any.whl (10 kB)\n",
            "Downloading h11-0.14.0-py3-none-any.whl (58 kB)\n",
            "\u001b[2K   \u001b[90m━━━━━━━━━━━━━━━━━━━━━━━━━━━━━━━━━━━━━━━━\u001b[0m \u001b[32m58.3/58.3 kB\u001b[0m \u001b[31m3.9 MB/s\u001b[0m eta \u001b[36m0:00:00\u001b[0m\n",
            "\u001b[?25hInstalling collected packages: outcome, h11, wsproto, trio, trio-websocket, selenium\n",
            "Successfully installed h11-0.14.0 outcome-1.3.0.post0 selenium-4.25.0 trio-0.26.2 trio-websocket-0.11.1 wsproto-1.2.0\n"
          ]
        }
      ],
      "source": [
        "!pip install selenium"
      ]
    },
    {
      "cell_type": "code",
      "execution_count": 10,
      "metadata": {
        "colab": {
          "base_uri": "https://localhost:8080/"
        },
        "id": "34AxyHaHIJoB",
        "outputId": "da6083b6-bb53-46a8-ddb0-08c34802deb8"
      },
      "outputs": [
        {
          "output_type": "stream",
          "name": "stdout",
          "text": [
            "Reading package lists... Done\n",
            "Building dependency tree... Done\n",
            "Reading state information... Done\n",
            "The following packages were automatically installed and are no longer required:\n",
            "  libvulkan1 mesa-vulkan-drivers\n",
            "Use 'apt autoremove' to remove them.\n",
            "The following packages will be REMOVED:\n",
            "  google-chrome-stable\n",
            "0 upgraded, 0 newly installed, 1 to remove and 49 not upgraded.\n",
            "After this operation, 365 MB disk space will be freed.\n",
            "(Reading database ... 123760 files and directories currently installed.)\n",
            "Removing google-chrome-stable (129.0.6668.70-1) ...\n",
            "Processing triggers for man-db (2.10.2-1) ...\n",
            "--2024-09-25 17:24:52--  https://dl.google.com/linux/direct/google-chrome-stable_current_amd64.deb\n",
            "Resolving dl.google.com (dl.google.com)... 64.233.187.93, 64.233.187.136, 64.233.187.91, ...\n",
            "Connecting to dl.google.com (dl.google.com)|64.233.187.93|:443... connected.\n",
            "HTTP request sent, awaiting response... 200 OK\n",
            "Length: 111860972 (107M) [application/x-debian-package]\n",
            "Saving to: ‘google-chrome-stable_current_amd64.deb.1’\n",
            "\n",
            "google-chrome-stabl 100%[===================>] 106.68M   299MB/s    in 0.4s    \n",
            "\n",
            "2024-09-25 17:24:53 (299 MB/s) - ‘google-chrome-stable_current_amd64.deb.1’ saved [111860972/111860972]\n",
            "\n",
            "Selecting previously unselected package google-chrome-stable.\n",
            "(Reading database ... 123644 files and directories currently installed.)\n",
            "Preparing to unpack google-chrome-stable_current_amd64.deb ...\n",
            "Unpacking google-chrome-stable (129.0.6668.70-1) ...\n",
            "Setting up google-chrome-stable (129.0.6668.70-1) ...\n",
            "update-alternatives: using /usr/bin/google-chrome-stable to provide /usr/bin/x-www-browser (x-www-browser) in auto mode\n",
            "update-alternatives: using /usr/bin/google-chrome-stable to provide /usr/bin/gnome-www-browser (gnome-www-browser) in auto mode\n",
            "update-alternatives: using /usr/bin/google-chrome-stable to provide /usr/bin/google-chrome (google-chrome) in auto mode\n",
            "Processing triggers for man-db (2.10.2-1) ...\n",
            "Reading package lists... Done\n",
            "Building dependency tree... Done\n",
            "Reading state information... Done\n",
            "0 upgraded, 0 newly installed, 0 to remove and 49 not upgraded.\n",
            "--2024-09-25 17:25:09--  https://edgedl.me.gvt1.com/edgedl/chrome/chrome-for-testing/129.0.6668.58/linux64/chromedriver-linux64.zip\n",
            "Resolving edgedl.me.gvt1.com (edgedl.me.gvt1.com)... 34.104.35.123, 2600:1900:4110:86f::\n",
            "Connecting to edgedl.me.gvt1.com (edgedl.me.gvt1.com)|34.104.35.123|:443... connected.\n",
            "HTTP request sent, awaiting response... 302 Found\n",
            "Location: https://storage.googleapis.com/chrome-for-testing-public/129.0.6668.58/linux64/chromedriver-linux64.zip [following]\n",
            "--2024-09-25 17:25:09--  https://storage.googleapis.com/chrome-for-testing-public/129.0.6668.58/linux64/chromedriver-linux64.zip\n",
            "Resolving storage.googleapis.com (storage.googleapis.com)... 74.125.203.207, 74.125.204.207, 64.233.187.207, ...\n",
            "Connecting to storage.googleapis.com (storage.googleapis.com)|74.125.203.207|:443... connected.\n",
            "HTTP request sent, awaiting response... 200 OK\n",
            "Length: 9410841 (9.0M) [application/zip]\n",
            "Saving to: ‘chromedriver-linux64.zip.1’\n",
            "\n",
            "chromedriver-linux6 100%[===================>]   8.97M  6.78MB/s    in 1.3s    \n",
            "\n",
            "2024-09-25 17:25:11 (6.78 MB/s) - ‘chromedriver-linux64.zip.1’ saved [9410841/9410841]\n",
            "\n",
            "Archive:  chromedriver-linux64.zip\n",
            "replace chromedriver-linux64/LICENSE.chromedriver? [y]es, [n]o, [A]ll, [N]one, [r]ename: y\n",
            "  inflating: chromedriver-linux64/LICENSE.chromedriver  \n",
            "replace chromedriver-linux64/THIRD_PARTY_NOTICES.chromedriver? [y]es, [n]o, [A]ll, [N]one, [r]ename: y\n",
            "  inflating: chromedriver-linux64/THIRD_PARTY_NOTICES.chromedriver  \n",
            "  inflating: chromedriver-linux64/chromedriver  \n"
          ]
        }
      ],
      "source": [
        "# Remove previously downloaded Chrome and ChromeDriver if any\n",
        "!apt-get remove -y google-chrome-stable\n",
        "!rm /usr/local/bin/chromedriver\n",
        "\n",
        "# Install the correct Chrome version\n",
        "!wget https://dl.google.com/linux/direct/google-chrome-stable_current_amd64.deb\n",
        "!dpkg -i google-chrome-stable_current_amd64.deb\n",
        "!apt --fix-broken install -y\n",
        "\n",
        "# Get the correct version of ChromeDriver for Chrome 129\n",
        "!wget https://edgedl.me.gvt1.com/edgedl/chrome/chrome-for-testing/129.0.6668.58/linux64/chromedriver-linux64.zip\n",
        "!unzip chromedriver-linux64.zip\n",
        "!mv chromedriver-linux64/chromedriver /usr/local/bin/chromedriver\n",
        "!chmod +x /usr/local/bin/chromedriver"
      ]
    },
    {
      "cell_type": "code",
      "execution_count": 16,
      "metadata": {
        "id": "CfJZ3Ed9YlSX"
      },
      "outputs": [],
      "source": [
        "from selenium import webdriver\n",
        "from selenium.webdriver.chrome.options import Options\n",
        "from bs4 import BeautifulSoup\n",
        "\n",
        "chrome_options = Options()\n",
        "chrome_options.add_argument('--headless')\n",
        "chrome_options.add_argument('--no-sandbox')\n",
        "chrome_options.add_argument('--disable-dev-shm-usage')\n",
        "\n",
        "chrome_options.binary_location = \"/usr/bin/google-chrome\"\n",
        "\n",
        "driver = webdriver.Chrome(options=chrome_options)\n",
        "\n",
        "main_url = \"https://www.data.gov.in/catalog/schools-availability-infrastructure-and-facilities-school-management-and-school-category\"\n",
        "\n",
        "def get_catalog_urls(main_url):\n",
        "    try:\n",
        "        # Get page source from the Selenium driver\n",
        "        driver.get(main_url)\n",
        "        driver.implicitly_wait(10)\n",
        "        page_source = driver.page_source\n",
        "\n",
        "        # Parse the page source with BeautifulSoup\n",
        "        soup = BeautifulSoup(page_source, 'html.parser')\n",
        "\n",
        "        catalog_urls = []\n",
        "\n",
        "        # Navigate through the class hierarchy to find the \"Data API\" links\n",
        "        containers = soup.find_all('div', class_='container')\n",
        "\n",
        "        if containers:\n",
        "            for container in containers:\n",
        "                rows = container.find_all('div', class_='row')\n",
        "                for row in rows:\n",
        "                    cols = row.find_all('div', class_='col-md-6')\n",
        "                    for col in cols:\n",
        "                        card = col.find('div', class_='card grid-box')\n",
        "                        if card:\n",
        "                            grid_download_box = card.find('div', class_='grid-download-box')\n",
        "                            if grid_download_box:\n",
        "                                grid_download_inner = grid_download_box.find('div', class_='grid-download-box-inner')\n",
        "                                if grid_download_inner:\n",
        "                                    grid_export_box = grid_download_inner.find('div', class_='grid-export-box')\n",
        "                                    if grid_export_box:\n",
        "                                        # Find all \"Data API\" links within the export box\n",
        "                                        links = grid_export_box.find_all('a', title=\"Data API\")\n",
        "                                        for link in links:\n",
        "                                            catalog_url = link.get('href')\n",
        "                                            if catalog_url:\n",
        "                                                # Complete the URL in case it's relative\n",
        "                                                full_url = f\"https://www.data.gov.in{catalog_url.split('#')[0]}\"\n",
        "                                                catalog_urls.append(full_url)\n",
        "    except Exception as e:\n",
        "        print(f\"Error fetching catalog URLs from {main_url}: {e}\")\n",
        "\n",
        "    return catalog_urls\n",
        "\n",
        "\n",
        "# Call the function and print the catalog URLs\n",
        "# catalog_urls = get_catalog_urls(main_url)\n",
        "# print(\"Catalog URLs:\", catalog_urls)"
      ]
    },
    {
      "cell_type": "code",
      "execution_count": 17,
      "metadata": {
        "id": "2kUd24ccZwKE"
      },
      "outputs": [],
      "source": [
        "url = \"https://www.data.gov.in/resource/number-schools-availability-infrastructure-and-facilities-school-management-and-2798#api\"\n",
        "api_key = \"579b464db66ec23bdd000001cdd3946e44ce4aad7209ff7b23ac571b\"\n",
        "\n",
        "from selenium.webdriver.common.by import By\n",
        "from selenium.webdriver.support.ui import WebDriverWait\n",
        "from selenium.webdriver.support import expected_conditions as EC\n",
        "\n",
        "def get_endpoint_from_catalog(url, api_key, format=\"json\", limit=\"50\"):\n",
        "    driver.get(url)\n",
        "\n",
        "    try:\n",
        "        # Explicitly wait for the API path element to load (adjust the selector if needed)\n",
        "        WebDriverWait(driver, 20).until(\n",
        "            EC.presence_of_element_located((By.CLASS_NAME, \"opblock-summary-path\"))\n",
        "        )\n",
        "\n",
        "        # Once the element is found, proceed with scraping\n",
        "        page_source = driver.page_source\n",
        "        soup = BeautifulSoup(page_source, 'html.parser')\n",
        "\n",
        "        api_endpoints = []\n",
        "\n",
        "        # Find the relevant container and API paths\n",
        "        containers = soup.find_all('div', class_='wrapper')\n",
        "        for container in containers:\n",
        "            path_span = container.find('span', class_='opblock-summary-path')\n",
        "            if path_span:\n",
        "                data_path = path_span.get_text(strip=True)\n",
        "                full_url = f\"https://api.data.gov.in{data_path}?api-key={api_key}&format={format}&limit={limit}\"\n",
        "                api_endpoints.append(full_url)\n",
        "\n",
        "        return api_endpoints\n",
        "\n",
        "    except Exception as e:\n",
        "        # Handle exceptions such as timeout or missing element\n",
        "        print(f\"Error fetching API endpoint: {e}\")\n",
        "        return []\n",
        "\n",
        "# get_endpoint_from_catalog(url, api_key)"
      ]
    },
    {
      "cell_type": "code",
      "execution_count": null,
      "metadata": {
        "colab": {
          "base_uri": "https://localhost:8080/"
        },
        "id": "pOIHAfO5lDPx",
        "outputId": "c1648ba0-763d-4665-aa9e-636defe8c3cc"
      },
      "outputs": [
        {
          "data": {
            "text/plain": [
              "['https://api.data.gov.in/resource/99749f05-5b1b-44ef-a1ac-5ebbe11a4b3f?api-key=579b464db66ec23bdd000001cdd3946e44ce4aad7209ff7b23ac571b&format=json&limit=50']"
            ]
          },
          "execution_count": 18,
          "metadata": {},
          "output_type": "execute_result"
        }
      ],
      "source": [
        "url2 = \"https://www.data.gov.in/resource/number-schools-availability-infrastructure-and-facilities-school-management-and-2783#api\"\n",
        "get_endpoint_from_catalog(url2, api_key)"
      ]
    },
    {
      "cell_type": "code",
      "execution_count": 18,
      "metadata": {
        "id": "hxhFBm3xdRAD"
      },
      "outputs": [],
      "source": [
        "api_key = \"579b464db66ec23bdd000001cdd3946e44ce4aad7209ff7b23ac571b\"\n",
        "def fetch_all_endpoints(catalog_urls, api_key, format=\"json\", limit=\"50\"):\n",
        "    all_endpoints = []\n",
        "    for url in catalog_urls:\n",
        "        try:\n",
        "            url_with_api = url + \"#api\"\n",
        "            endpoints = get_endpoint_from_catalog(url_with_api, api_key, format=format, limit=limit)\n",
        "            all_endpoints.extend(endpoints)\n",
        "        except Exception as e:\n",
        "            print(f\"Error fetching endpoints from {url}: {e}\")\n",
        "    return all_endpoints\n",
        "\n",
        "# fetch_all_endpoints(catalog_urls, api_key)"
      ]
    },
    {
      "cell_type": "markdown",
      "metadata": {
        "id": "tL69irY-pxAR"
      },
      "source": [
        "# STORING WEB SCRAPED DATA TO SNOWFLAKES"
      ]
    },
    {
      "cell_type": "code",
      "execution_count": 19,
      "metadata": {
        "id": "oYpP_XkKqkDb"
      },
      "outputs": [],
      "source": [
        "import snowflake.connector\n",
        "import requests\n",
        "import json\n",
        "\n",
        "# Step 3: Connect to Snowflake\n",
        "ctx = snowflake.connector.connect(\n",
        "    user='MEHEKJAIN',\n",
        "    password='Yrztypk3NNveFde',\n",
        "    account='UKCYXTT-ZL80105',\n",
        "    warehouse='COMPUTE_WH',\n",
        "    database='TEST',\n",
        "    schema='PUBLIC',\n",
        "    role='ACCOUNTADMIN'\n",
        ")\n",
        "\n",
        "# Step 4: Create a cursor object to execute SQL\n",
        "cur = ctx.cursor()\n",
        "\n",
        "def create_table_in_snowflakes(table_name, cur):\n",
        "  create_table_query = f\"\"\"\n",
        "  CREATE TABLE IF NOT EXISTS {table_name} (\n",
        "      academic_year VARCHAR,\n",
        "      state_code VARCHAR,\n",
        "      state_name VARCHAR,\n",
        "      district_code VARCHAR,\n",
        "      district_name VARCHAR,\n",
        "      block_code VARCHAR,\n",
        "      udise_block_name VARCHAR,\n",
        "      school_category_id VARCHAR,\n",
        "      school_category_name VARCHAR,\n",
        "      school_management_id VARCHAR,\n",
        "      school_management_name VARCHAR,\n",
        "      location VARCHAR,\n",
        "      school_type_id VARCHAR,\n",
        "      school_type VARCHAR,\n",
        "      total_number_of_schools VARCHAR,\n",
        "      building VARCHAR,\n",
        "      complete_medical_checkup VARCHAR,\n",
        "      computer_available VARCHAR,\n",
        "      functional_drinking_water VARCHAR,\n",
        "      drinking_water VARCHAR,\n",
        "      functional_electricity VARCHAR,\n",
        "      functional_boy_toilet VARCHAR,\n",
        "      functional_girl_toilet VARCHAR,\n",
        "      functional_toilet_facility VARCHAR,\n",
        "      functional_toilet_and_urinal VARCHAR,\n",
        "      functional_urinal VARCHAR,\n",
        "      functional_urinal_boy VARCHAR,\n",
        "      functional_urinal_girl VARCHAR,\n",
        "      handwash VARCHAR,\n",
        "      separate_room_for_headmaster VARCHAR,\n",
        "      incinerator VARCHAR,\n",
        "      internet VARCHAR,\n",
        "      kitchen_garden VARCHAR,\n",
        "      land_available VARCHAR,\n",
        "      librarian VARCHAR,\n",
        "      library_or_reading_corner_or_book_bank VARCHAR,\n",
        "      medical_checkup VARCHAR,\n",
        "      newspaper VARCHAR,\n",
        "      playground VARCHAR,\n",
        "      rain_water_harvesting VARCHAR,\n",
        "      ramps VARCHAR,\n",
        "      solar_panel VARCHAR,\n",
        "      furniture VARCHAR,\n",
        "      water_purifier VARCHAR,\n",
        "      water_tested VARCHAR\n",
        "  );\n",
        "  \"\"\"\n",
        "  try:\n",
        "      cur.execute(create_table_query)\n",
        "      print(\"Table created successfully.\")\n",
        "  except Exception as e:\n",
        "      print(f\"Error creating table: {e}\")\n",
        "\n",
        "def insert_data_into_snowflake(data, table_name, ctx, cur):\n",
        "  insert_query = f\"\"\"\n",
        "  INSERT INTO {table_name} (\n",
        "      academic_year, state_code, state_name, district_code, district_name,\n",
        "      block_code, udise_block_name, school_category_id, school_category_name,\n",
        "      school_management_id, school_management_name, location, school_type_id,\n",
        "      school_type, total_number_of_schools, building, complete_medical_checkup,\n",
        "      computer_available, functional_drinking_water, drinking_water,\n",
        "      functional_electricity, functional_boy_toilet, functional_girl_toilet,\n",
        "      functional_toilet_facility, functional_toilet_and_urinal, functional_urinal,\n",
        "      functional_urinal_boy, functional_urinal_girl, handwash, separate_room_for_headmaster,\n",
        "      incinerator, internet, kitchen_garden, land_available, librarian,\n",
        "      library_or_reading_corner_or_book_bank, medical_checkup, newspaper, playground,\n",
        "      rain_water_harvesting, ramps, solar_panel, furniture, water_purifier, water_tested\n",
        "  ) VALUES (\n",
        "      %s, %s, %s, %s, %s,\n",
        "      %s, %s, %s, %s, %s, %s,\n",
        "      %s, %s, %s, %s, %s,\n",
        "      %s, %s, %s, %s, %s,\n",
        "      %s, %s, %s, %s, %s,\n",
        "      %s, %s, %s, %s, %s,\n",
        "      %s, %s, %s, %s, %s,\n",
        "      %s, %s, %s, %s, %s,\n",
        "      %s, %s, %s, %s\n",
        "  );\n",
        "  \"\"\"\n",
        "\n",
        "  for record in data['records']:\n",
        "      values = (\n",
        "          str(record['academic_year']),\n",
        "          str(record['state_code']),\n",
        "          str(record['state_name']),\n",
        "          str(record['district_code']),\n",
        "          str(record['district_name']),\n",
        "          str(record['block_code']),\n",
        "          str(record['udise_block_name']),\n",
        "          str(record['school_category_id']),\n",
        "          str(record['school_category_name']),\n",
        "          str(record['school_management_id']),\n",
        "          str(record['school_management_name']),\n",
        "          str(record['location']),\n",
        "          str(record['school_type_id']),\n",
        "          str(record['school_type']),\n",
        "          str(record['total_number_of_schools']),\n",
        "          str(record['building']),\n",
        "          str(record['complete_medical_checkup']),\n",
        "          str(record['computer_available']),\n",
        "          str(record['functional_drinking_water']),\n",
        "          str(record['drinking_water']),\n",
        "          str(record['functional_electricity']),\n",
        "          str(record['functional_boy_toilet']),\n",
        "          str(record['functional_girl_toilet']),\n",
        "          str(record['functional_toilet_facility']),\n",
        "          str(record['functional_toilet_and_urinal']),\n",
        "          str(record['functional_urinal']),\n",
        "          str(record['functional_urinal_boy']),\n",
        "          str(record['functional_urinal_girl']),\n",
        "          str(record['handwash']),\n",
        "          str(record['separate_room_for_headmaster']),\n",
        "          str(record['incinerator']),\n",
        "          str(record['internet']),\n",
        "          str(record['kitchen_garden']),\n",
        "          str(record['land_available']),\n",
        "          str(record['librarian']),\n",
        "          str(record['library_or_reading_corner_or_book_bank']),\n",
        "          str(record['medical_checkup']),\n",
        "          str(record['newspaper']),\n",
        "          str(record['playground']),\n",
        "          str(record['rain_water_harvesting']),\n",
        "          str(record['ramps']),\n",
        "          str(record['solar_panel']),\n",
        "          str(record['furniture']),\n",
        "          str(record['water_purifier']),\n",
        "          str(record['water_tested'])\n",
        "      )\n",
        "\n",
        "      # Execute the query with the values\n",
        "      cur.execute(insert_query, values)\n",
        "  ctx.commit()\n",
        "\n",
        "def scrape_and_store(main_url, n_pages, table_name, api_key, ctx, cur, format=\"json\", limit=\"50\"):\n",
        "    try:\n",
        "      create_table_in_snowflakes(table_name, cur)\n",
        "      print(\"Table created successfully.\")\n",
        "      for cnt in range(72,n_pages):\n",
        "          print(f\"FETCHING DATA FROM PAGE {cnt}\")\n",
        "          current_url = main_url + f\"?page={cnt}\"\n",
        "          print(f\"CURRENT URL: {current_url}\")\n",
        "          catalog_urls = get_catalog_urls(current_url)\n",
        "          print(\"CATALOG URLS:\", catalog_urls)\n",
        "\n",
        "          all_endpoints_in_catalog = fetch_all_endpoints(catalog_urls, api_key, format=format, limit=limit)\n",
        "          print(\"ALL ENDPOINTS:\", all_endpoints_in_catalog)\n",
        "\n",
        "          for endpoint in all_endpoints_in_catalog:\n",
        "              try:\n",
        "                  response = requests.get(endpoint)\n",
        "                  if response.status_code == 200:\n",
        "                      data = response.json()  # Converts JSON response to Python dict\n",
        "                      insert_data_into_snowflake(data, table_name, ctx, cur)\n",
        "                      print(f\"Data added to table. Rows added: {len(data['records'])}\")\n",
        "                  else:\n",
        "                      print(f\"Error fetching data from API at {endpoint}: Status Code {response.status_code}\")\n",
        "              except requests.exceptions.RequestException as req_err:\n",
        "                  print(f\"Request error for endpoint {endpoint}: {req_err}\")\n",
        "              except Exception as e:\n",
        "                  print(f\"Error processing data from {endpoint}: {e}\")\n",
        "\n",
        "          print(\"Data insertion complete\")\n",
        "      return all_endpoints_in_catalog\n",
        "\n",
        "    except Exception as e:\n",
        "        print(f\"Error in scraping or storing process: {e}\")\n",
        "        return []  # Return an empty list or partial data as per your needs"
      ]
    },
    {
      "cell_type": "code",
      "execution_count": 20,
      "metadata": {
        "colab": {
          "base_uri": "https://localhost:8080/",
          "height": 515
        },
        "id": "OsccrwgjqP7m",
        "outputId": "67d972bb-2500-443f-a1b2-9941b6413cb1"
      },
      "outputs": [
        {
          "output_type": "stream",
          "name": "stdout",
          "text": [
            "Table created successfully.\n",
            "Table created successfully.\n",
            "FETCHING DATA FROM PAGE 72\n",
            "CURRENT URL: https://www.data.gov.in/catalog/schools-availability-infrastructure-and-facilities-school-management-and-school-category?page=72\n",
            "CATALOG URLS: ['https://www.data.gov.in/resource/number-schools-availability-infrastructure-and-facilities-school-management-and-2786', 'https://www.data.gov.in/resource/number-schools-availability-infrastructure-and-facilities-school-management-and-2762', 'https://www.data.gov.in/resource/number-schools-availability-infrastructure-and-facilities-school-management-and-2757', 'https://www.data.gov.in/resource/number-schools-availability-infrastructure-and-facilities-school-management-and-2752', 'https://www.data.gov.in/resource/number-schools-availability-infrastructure-and-facilities-school-management-and-2766', 'https://www.data.gov.in/resource/number-schools-availability-infrastructure-and-facilities-school-management-and-2784', 'https://www.data.gov.in/resource/number-schools-availability-infrastructure-and-facilities-school-management-and-2764', 'https://www.data.gov.in/resource/number-schools-availability-infrastructure-and-facilities-school-management-and-2772', 'https://www.data.gov.in/resource/number-schools-availability-infrastructure-and-facilities-school-management-and-2786', 'https://www.data.gov.in/resource/number-schools-availability-infrastructure-and-facilities-school-management-and-2762', 'https://www.data.gov.in/resource/number-schools-availability-infrastructure-and-facilities-school-management-and-2757', 'https://www.data.gov.in/resource/number-schools-availability-infrastructure-and-facilities-school-management-and-2752', 'https://www.data.gov.in/resource/number-schools-availability-infrastructure-and-facilities-school-management-and-2766', 'https://www.data.gov.in/resource/number-schools-availability-infrastructure-and-facilities-school-management-and-2784', 'https://www.data.gov.in/resource/number-schools-availability-infrastructure-and-facilities-school-management-and-2764', 'https://www.data.gov.in/resource/number-schools-availability-infrastructure-and-facilities-school-management-and-2772']\n",
            "ALL ENDPOINTS: ['https://api.data.gov.in/resource/f0663a8f-381e-4312-b214-78eaab375b02?api-key=579b464db66ec23bdd000001cdd3946e44ce4aad7209ff7b23ac571b&format=json&limit=200', 'https://api.data.gov.in/resource/b6e12136-62bd-4d2f-94de-595ad8727942?api-key=579b464db66ec23bdd000001cdd3946e44ce4aad7209ff7b23ac571b&format=json&limit=200', 'https://api.data.gov.in/resource/308fc062-97fc-443d-8c85-8460007cb2c2?api-key=579b464db66ec23bdd000001cdd3946e44ce4aad7209ff7b23ac571b&format=json&limit=200', 'https://api.data.gov.in/resource/fda9fe16-47e5-421b-974e-f7129bd02855?api-key=579b464db66ec23bdd000001cdd3946e44ce4aad7209ff7b23ac571b&format=json&limit=200', 'https://api.data.gov.in/resource/ff5568c0-61b6-4500-b8e5-f5952503d4fa?api-key=579b464db66ec23bdd000001cdd3946e44ce4aad7209ff7b23ac571b&format=json&limit=200', 'https://api.data.gov.in/resource/23ed558e-36e6-4500-a050-82dbbedebe78?api-key=579b464db66ec23bdd000001cdd3946e44ce4aad7209ff7b23ac571b&format=json&limit=200', 'https://api.data.gov.in/resource/7d5d1ac8-10d3-4a7a-b62e-89bd43368f1b?api-key=579b464db66ec23bdd000001cdd3946e44ce4aad7209ff7b23ac571b&format=json&limit=200', 'https://api.data.gov.in/resource/be6cb669-fc2e-4e0a-b582-a234ce4dc44e?api-key=579b464db66ec23bdd000001cdd3946e44ce4aad7209ff7b23ac571b&format=json&limit=200', 'https://api.data.gov.in/resource/f0663a8f-381e-4312-b214-78eaab375b02?api-key=579b464db66ec23bdd000001cdd3946e44ce4aad7209ff7b23ac571b&format=json&limit=200', 'https://api.data.gov.in/resource/b6e12136-62bd-4d2f-94de-595ad8727942?api-key=579b464db66ec23bdd000001cdd3946e44ce4aad7209ff7b23ac571b&format=json&limit=200', 'https://api.data.gov.in/resource/308fc062-97fc-443d-8c85-8460007cb2c2?api-key=579b464db66ec23bdd000001cdd3946e44ce4aad7209ff7b23ac571b&format=json&limit=200', 'https://api.data.gov.in/resource/fda9fe16-47e5-421b-974e-f7129bd02855?api-key=579b464db66ec23bdd000001cdd3946e44ce4aad7209ff7b23ac571b&format=json&limit=200', 'https://api.data.gov.in/resource/ff5568c0-61b6-4500-b8e5-f5952503d4fa?api-key=579b464db66ec23bdd000001cdd3946e44ce4aad7209ff7b23ac571b&format=json&limit=200', 'https://api.data.gov.in/resource/23ed558e-36e6-4500-a050-82dbbedebe78?api-key=579b464db66ec23bdd000001cdd3946e44ce4aad7209ff7b23ac571b&format=json&limit=200', 'https://api.data.gov.in/resource/7d5d1ac8-10d3-4a7a-b62e-89bd43368f1b?api-key=579b464db66ec23bdd000001cdd3946e44ce4aad7209ff7b23ac571b&format=json&limit=200', 'https://api.data.gov.in/resource/be6cb669-fc2e-4e0a-b582-a234ce4dc44e?api-key=579b464db66ec23bdd000001cdd3946e44ce4aad7209ff7b23ac571b&format=json&limit=200']\n",
            "Request error for endpoint https://api.data.gov.in/resource/f0663a8f-381e-4312-b214-78eaab375b02?api-key=579b464db66ec23bdd000001cdd3946e44ce4aad7209ff7b23ac571b&format=json&limit=200: HTTPSConnectionPool(host='api.data.gov.in', port=443): Max retries exceeded with url: /resource/f0663a8f-381e-4312-b214-78eaab375b02?api-key=579b464db66ec23bdd000001cdd3946e44ce4aad7209ff7b23ac571b&format=json&limit=200 (Caused by ConnectTimeoutError(<urllib3.connection.HTTPSConnection object at 0x7e6fa8990400>, 'Connection to api.data.gov.in timed out. (connect timeout=None)'))\n",
            "Request error for endpoint https://api.data.gov.in/resource/b6e12136-62bd-4d2f-94de-595ad8727942?api-key=579b464db66ec23bdd000001cdd3946e44ce4aad7209ff7b23ac571b&format=json&limit=200: HTTPSConnectionPool(host='api.data.gov.in', port=443): Max retries exceeded with url: /resource/b6e12136-62bd-4d2f-94de-595ad8727942?api-key=579b464db66ec23bdd000001cdd3946e44ce4aad7209ff7b23ac571b&format=json&limit=200 (Caused by ConnectTimeoutError(<urllib3.connection.HTTPSConnection object at 0x7e6fa8990dc0>, 'Connection to api.data.gov.in timed out. (connect timeout=None)'))\n",
            "Request error for endpoint https://api.data.gov.in/resource/308fc062-97fc-443d-8c85-8460007cb2c2?api-key=579b464db66ec23bdd000001cdd3946e44ce4aad7209ff7b23ac571b&format=json&limit=200: HTTPSConnectionPool(host='api.data.gov.in', port=443): Max retries exceeded with url: /resource/308fc062-97fc-443d-8c85-8460007cb2c2?api-key=579b464db66ec23bdd000001cdd3946e44ce4aad7209ff7b23ac571b&format=json&limit=200 (Caused by ConnectTimeoutError(<urllib3.connection.HTTPSConnection object at 0x7e6fa8991660>, 'Connection to api.data.gov.in timed out. (connect timeout=None)'))\n",
            "Request error for endpoint https://api.data.gov.in/resource/fda9fe16-47e5-421b-974e-f7129bd02855?api-key=579b464db66ec23bdd000001cdd3946e44ce4aad7209ff7b23ac571b&format=json&limit=200: HTTPSConnectionPool(host='api.data.gov.in', port=443): Max retries exceeded with url: /resource/fda9fe16-47e5-421b-974e-f7129bd02855?api-key=579b464db66ec23bdd000001cdd3946e44ce4aad7209ff7b23ac571b&format=json&limit=200 (Caused by ConnectTimeoutError(<urllib3.connection.HTTPSConnection object at 0x7e6fa898bfd0>, 'Connection to api.data.gov.in timed out. (connect timeout=None)'))\n"
          ]
        },
        {
          "output_type": "error",
          "ename": "KeyboardInterrupt",
          "evalue": "",
          "traceback": [
            "\u001b[0;31m---------------------------------------------------------------------------\u001b[0m",
            "\u001b[0;31mKeyboardInterrupt\u001b[0m                         Traceback (most recent call last)",
            "\u001b[0;32m<ipython-input-20-58089e6a95c6>\u001b[0m in \u001b[0;36m<cell line: 4>\u001b[0;34m()\u001b[0m\n\u001b[1;32m      2\u001b[0m \u001b[0mapi_key\u001b[0m \u001b[0;34m=\u001b[0m \u001b[0;34m\"579b464db66ec23bdd000001cdd3946e44ce4aad7209ff7b23ac571b\"\u001b[0m\u001b[0;34m\u001b[0m\u001b[0;34m\u001b[0m\u001b[0m\n\u001b[1;32m      3\u001b[0m \u001b[0mtable_name\u001b[0m \u001b[0;34m=\u001b[0m \u001b[0;34m\"INFRASTRUCTURE_AVAILABILITY_AND_FACILITIES\"\u001b[0m\u001b[0;34m\u001b[0m\u001b[0;34m\u001b[0m\u001b[0m\n\u001b[0;32m----> 4\u001b[0;31m \u001b[0mscrape_and_store\u001b[0m\u001b[0;34m(\u001b[0m\u001b[0mmain_url\u001b[0m\u001b[0;34m,\u001b[0m \u001b[0;36m200\u001b[0m\u001b[0;34m,\u001b[0m \u001b[0mtable_name\u001b[0m\u001b[0;34m,\u001b[0m \u001b[0mapi_key\u001b[0m\u001b[0;34m,\u001b[0m \u001b[0mctx\u001b[0m\u001b[0;34m,\u001b[0m \u001b[0mcur\u001b[0m\u001b[0;34m,\u001b[0m \u001b[0;34m\"json\"\u001b[0m\u001b[0;34m,\u001b[0m \u001b[0;34m\"200\"\u001b[0m\u001b[0;34m)\u001b[0m\u001b[0;34m\u001b[0m\u001b[0;34m\u001b[0m\u001b[0m\n\u001b[0m",
            "\u001b[0;32m<ipython-input-19-cdfec306d7ca>\u001b[0m in \u001b[0;36mscrape_and_store\u001b[0;34m(main_url, n_pages, table_name, api_key, ctx, cur, format, limit)\u001b[0m\n\u001b[1;32m    169\u001b[0m           \u001b[0;32mfor\u001b[0m \u001b[0mendpoint\u001b[0m \u001b[0;32min\u001b[0m \u001b[0mall_endpoints_in_catalog\u001b[0m\u001b[0;34m:\u001b[0m\u001b[0;34m\u001b[0m\u001b[0;34m\u001b[0m\u001b[0m\n\u001b[1;32m    170\u001b[0m               \u001b[0;32mtry\u001b[0m\u001b[0;34m:\u001b[0m\u001b[0;34m\u001b[0m\u001b[0;34m\u001b[0m\u001b[0m\n\u001b[0;32m--> 171\u001b[0;31m                   \u001b[0mresponse\u001b[0m \u001b[0;34m=\u001b[0m \u001b[0mrequests\u001b[0m\u001b[0;34m.\u001b[0m\u001b[0mget\u001b[0m\u001b[0;34m(\u001b[0m\u001b[0mendpoint\u001b[0m\u001b[0;34m)\u001b[0m\u001b[0;34m\u001b[0m\u001b[0;34m\u001b[0m\u001b[0m\n\u001b[0m\u001b[1;32m    172\u001b[0m                   \u001b[0;32mif\u001b[0m \u001b[0mresponse\u001b[0m\u001b[0;34m.\u001b[0m\u001b[0mstatus_code\u001b[0m \u001b[0;34m==\u001b[0m \u001b[0;36m200\u001b[0m\u001b[0;34m:\u001b[0m\u001b[0;34m\u001b[0m\u001b[0;34m\u001b[0m\u001b[0m\n\u001b[1;32m    173\u001b[0m                       \u001b[0mdata\u001b[0m \u001b[0;34m=\u001b[0m \u001b[0mresponse\u001b[0m\u001b[0;34m.\u001b[0m\u001b[0mjson\u001b[0m\u001b[0;34m(\u001b[0m\u001b[0;34m)\u001b[0m  \u001b[0;31m# Converts JSON response to Python dict\u001b[0m\u001b[0;34m\u001b[0m\u001b[0;34m\u001b[0m\u001b[0m\n",
            "\u001b[0;32m/usr/local/lib/python3.10/dist-packages/requests/api.py\u001b[0m in \u001b[0;36mget\u001b[0;34m(url, params, **kwargs)\u001b[0m\n\u001b[1;32m     71\u001b[0m     \"\"\"\n\u001b[1;32m     72\u001b[0m \u001b[0;34m\u001b[0m\u001b[0m\n\u001b[0;32m---> 73\u001b[0;31m     \u001b[0;32mreturn\u001b[0m \u001b[0mrequest\u001b[0m\u001b[0;34m(\u001b[0m\u001b[0;34m\"get\"\u001b[0m\u001b[0;34m,\u001b[0m \u001b[0murl\u001b[0m\u001b[0;34m,\u001b[0m \u001b[0mparams\u001b[0m\u001b[0;34m=\u001b[0m\u001b[0mparams\u001b[0m\u001b[0;34m,\u001b[0m \u001b[0;34m**\u001b[0m\u001b[0mkwargs\u001b[0m\u001b[0;34m)\u001b[0m\u001b[0;34m\u001b[0m\u001b[0;34m\u001b[0m\u001b[0m\n\u001b[0m\u001b[1;32m     74\u001b[0m \u001b[0;34m\u001b[0m\u001b[0m\n\u001b[1;32m     75\u001b[0m \u001b[0;34m\u001b[0m\u001b[0m\n",
            "\u001b[0;32m/usr/local/lib/python3.10/dist-packages/requests/api.py\u001b[0m in \u001b[0;36mrequest\u001b[0;34m(method, url, **kwargs)\u001b[0m\n\u001b[1;32m     57\u001b[0m     \u001b[0;31m# cases, and look like a memory leak in others.\u001b[0m\u001b[0;34m\u001b[0m\u001b[0;34m\u001b[0m\u001b[0m\n\u001b[1;32m     58\u001b[0m     \u001b[0;32mwith\u001b[0m \u001b[0msessions\u001b[0m\u001b[0;34m.\u001b[0m\u001b[0mSession\u001b[0m\u001b[0;34m(\u001b[0m\u001b[0;34m)\u001b[0m \u001b[0;32mas\u001b[0m \u001b[0msession\u001b[0m\u001b[0;34m:\u001b[0m\u001b[0;34m\u001b[0m\u001b[0;34m\u001b[0m\u001b[0m\n\u001b[0;32m---> 59\u001b[0;31m         \u001b[0;32mreturn\u001b[0m \u001b[0msession\u001b[0m\u001b[0;34m.\u001b[0m\u001b[0mrequest\u001b[0m\u001b[0;34m(\u001b[0m\u001b[0mmethod\u001b[0m\u001b[0;34m=\u001b[0m\u001b[0mmethod\u001b[0m\u001b[0;34m,\u001b[0m \u001b[0murl\u001b[0m\u001b[0;34m=\u001b[0m\u001b[0murl\u001b[0m\u001b[0;34m,\u001b[0m \u001b[0;34m**\u001b[0m\u001b[0mkwargs\u001b[0m\u001b[0;34m)\u001b[0m\u001b[0;34m\u001b[0m\u001b[0;34m\u001b[0m\u001b[0m\n\u001b[0m\u001b[1;32m     60\u001b[0m \u001b[0;34m\u001b[0m\u001b[0m\n\u001b[1;32m     61\u001b[0m \u001b[0;34m\u001b[0m\u001b[0m\n",
            "\u001b[0;32m/usr/local/lib/python3.10/dist-packages/requests/sessions.py\u001b[0m in \u001b[0;36mrequest\u001b[0;34m(self, method, url, params, data, headers, cookies, files, auth, timeout, allow_redirects, proxies, hooks, stream, verify, cert, json)\u001b[0m\n\u001b[1;32m    587\u001b[0m         }\n\u001b[1;32m    588\u001b[0m         \u001b[0msend_kwargs\u001b[0m\u001b[0;34m.\u001b[0m\u001b[0mupdate\u001b[0m\u001b[0;34m(\u001b[0m\u001b[0msettings\u001b[0m\u001b[0;34m)\u001b[0m\u001b[0;34m\u001b[0m\u001b[0;34m\u001b[0m\u001b[0m\n\u001b[0;32m--> 589\u001b[0;31m         \u001b[0mresp\u001b[0m \u001b[0;34m=\u001b[0m \u001b[0mself\u001b[0m\u001b[0;34m.\u001b[0m\u001b[0msend\u001b[0m\u001b[0;34m(\u001b[0m\u001b[0mprep\u001b[0m\u001b[0;34m,\u001b[0m \u001b[0;34m**\u001b[0m\u001b[0msend_kwargs\u001b[0m\u001b[0;34m)\u001b[0m\u001b[0;34m\u001b[0m\u001b[0;34m\u001b[0m\u001b[0m\n\u001b[0m\u001b[1;32m    590\u001b[0m \u001b[0;34m\u001b[0m\u001b[0m\n\u001b[1;32m    591\u001b[0m         \u001b[0;32mreturn\u001b[0m \u001b[0mresp\u001b[0m\u001b[0;34m\u001b[0m\u001b[0;34m\u001b[0m\u001b[0m\n",
            "\u001b[0;32m/usr/local/lib/python3.10/dist-packages/requests/sessions.py\u001b[0m in \u001b[0;36msend\u001b[0;34m(self, request, **kwargs)\u001b[0m\n\u001b[1;32m    701\u001b[0m \u001b[0;34m\u001b[0m\u001b[0m\n\u001b[1;32m    702\u001b[0m         \u001b[0;31m# Send the request\u001b[0m\u001b[0;34m\u001b[0m\u001b[0;34m\u001b[0m\u001b[0m\n\u001b[0;32m--> 703\u001b[0;31m         \u001b[0mr\u001b[0m \u001b[0;34m=\u001b[0m \u001b[0madapter\u001b[0m\u001b[0;34m.\u001b[0m\u001b[0msend\u001b[0m\u001b[0;34m(\u001b[0m\u001b[0mrequest\u001b[0m\u001b[0;34m,\u001b[0m \u001b[0;34m**\u001b[0m\u001b[0mkwargs\u001b[0m\u001b[0;34m)\u001b[0m\u001b[0;34m\u001b[0m\u001b[0;34m\u001b[0m\u001b[0m\n\u001b[0m\u001b[1;32m    704\u001b[0m \u001b[0;34m\u001b[0m\u001b[0m\n\u001b[1;32m    705\u001b[0m         \u001b[0;31m# Total elapsed time of the request (approximately)\u001b[0m\u001b[0;34m\u001b[0m\u001b[0;34m\u001b[0m\u001b[0m\n",
            "\u001b[0;32m/usr/local/lib/python3.10/dist-packages/requests/adapters.py\u001b[0m in \u001b[0;36msend\u001b[0;34m(self, request, stream, timeout, verify, cert, proxies)\u001b[0m\n\u001b[1;32m    665\u001b[0m \u001b[0;34m\u001b[0m\u001b[0m\n\u001b[1;32m    666\u001b[0m         \u001b[0;32mtry\u001b[0m\u001b[0;34m:\u001b[0m\u001b[0;34m\u001b[0m\u001b[0;34m\u001b[0m\u001b[0m\n\u001b[0;32m--> 667\u001b[0;31m             resp = conn.urlopen(\n\u001b[0m\u001b[1;32m    668\u001b[0m                 \u001b[0mmethod\u001b[0m\u001b[0;34m=\u001b[0m\u001b[0mrequest\u001b[0m\u001b[0;34m.\u001b[0m\u001b[0mmethod\u001b[0m\u001b[0;34m,\u001b[0m\u001b[0;34m\u001b[0m\u001b[0;34m\u001b[0m\u001b[0m\n\u001b[1;32m    669\u001b[0m                 \u001b[0murl\u001b[0m\u001b[0;34m=\u001b[0m\u001b[0murl\u001b[0m\u001b[0;34m,\u001b[0m\u001b[0;34m\u001b[0m\u001b[0;34m\u001b[0m\u001b[0m\n",
            "\u001b[0;32m/usr/local/lib/python3.10/dist-packages/urllib3/connectionpool.py\u001b[0m in \u001b[0;36murlopen\u001b[0;34m(self, method, url, body, headers, retries, redirect, assert_same_host, timeout, pool_timeout, release_conn, chunked, body_pos, preload_content, decode_content, **response_kw)\u001b[0m\n\u001b[1;32m    787\u001b[0m \u001b[0;34m\u001b[0m\u001b[0m\n\u001b[1;32m    788\u001b[0m             \u001b[0;31m# Make the request on the HTTPConnection object\u001b[0m\u001b[0;34m\u001b[0m\u001b[0;34m\u001b[0m\u001b[0m\n\u001b[0;32m--> 789\u001b[0;31m             response = self._make_request(\n\u001b[0m\u001b[1;32m    790\u001b[0m                 \u001b[0mconn\u001b[0m\u001b[0;34m,\u001b[0m\u001b[0;34m\u001b[0m\u001b[0;34m\u001b[0m\u001b[0m\n\u001b[1;32m    791\u001b[0m                 \u001b[0mmethod\u001b[0m\u001b[0;34m,\u001b[0m\u001b[0;34m\u001b[0m\u001b[0;34m\u001b[0m\u001b[0m\n",
            "\u001b[0;32m/usr/local/lib/python3.10/dist-packages/urllib3/connectionpool.py\u001b[0m in \u001b[0;36m_make_request\u001b[0;34m(self, conn, method, url, body, headers, retries, timeout, chunked, response_conn, preload_content, decode_content, enforce_content_length)\u001b[0m\n\u001b[1;32m    464\u001b[0m             \u001b[0;31m# Trigger any extra validation we need to do.\u001b[0m\u001b[0;34m\u001b[0m\u001b[0;34m\u001b[0m\u001b[0m\n\u001b[1;32m    465\u001b[0m             \u001b[0;32mtry\u001b[0m\u001b[0;34m:\u001b[0m\u001b[0;34m\u001b[0m\u001b[0;34m\u001b[0m\u001b[0m\n\u001b[0;32m--> 466\u001b[0;31m                 \u001b[0mself\u001b[0m\u001b[0;34m.\u001b[0m\u001b[0m_validate_conn\u001b[0m\u001b[0;34m(\u001b[0m\u001b[0mconn\u001b[0m\u001b[0;34m)\u001b[0m\u001b[0;34m\u001b[0m\u001b[0;34m\u001b[0m\u001b[0m\n\u001b[0m\u001b[1;32m    467\u001b[0m             \u001b[0;32mexcept\u001b[0m \u001b[0;34m(\u001b[0m\u001b[0mSocketTimeout\u001b[0m\u001b[0;34m,\u001b[0m \u001b[0mBaseSSLError\u001b[0m\u001b[0;34m)\u001b[0m \u001b[0;32mas\u001b[0m \u001b[0me\u001b[0m\u001b[0;34m:\u001b[0m\u001b[0;34m\u001b[0m\u001b[0;34m\u001b[0m\u001b[0m\n\u001b[1;32m    468\u001b[0m                 \u001b[0mself\u001b[0m\u001b[0;34m.\u001b[0m\u001b[0m_raise_timeout\u001b[0m\u001b[0;34m(\u001b[0m\u001b[0merr\u001b[0m\u001b[0;34m=\u001b[0m\u001b[0me\u001b[0m\u001b[0;34m,\u001b[0m \u001b[0murl\u001b[0m\u001b[0;34m=\u001b[0m\u001b[0murl\u001b[0m\u001b[0;34m,\u001b[0m \u001b[0mtimeout_value\u001b[0m\u001b[0;34m=\u001b[0m\u001b[0mconn\u001b[0m\u001b[0;34m.\u001b[0m\u001b[0mtimeout\u001b[0m\u001b[0;34m)\u001b[0m\u001b[0;34m\u001b[0m\u001b[0;34m\u001b[0m\u001b[0m\n",
            "\u001b[0;32m/usr/local/lib/python3.10/dist-packages/urllib3/connectionpool.py\u001b[0m in \u001b[0;36m_validate_conn\u001b[0;34m(self, conn)\u001b[0m\n\u001b[1;32m   1093\u001b[0m         \u001b[0;31m# Force connect early to allow us to validate the connection.\u001b[0m\u001b[0;34m\u001b[0m\u001b[0;34m\u001b[0m\u001b[0m\n\u001b[1;32m   1094\u001b[0m         \u001b[0;32mif\u001b[0m \u001b[0mconn\u001b[0m\u001b[0;34m.\u001b[0m\u001b[0mis_closed\u001b[0m\u001b[0;34m:\u001b[0m\u001b[0;34m\u001b[0m\u001b[0;34m\u001b[0m\u001b[0m\n\u001b[0;32m-> 1095\u001b[0;31m             \u001b[0mconn\u001b[0m\u001b[0;34m.\u001b[0m\u001b[0mconnect\u001b[0m\u001b[0;34m(\u001b[0m\u001b[0;34m)\u001b[0m\u001b[0;34m\u001b[0m\u001b[0;34m\u001b[0m\u001b[0m\n\u001b[0m\u001b[1;32m   1096\u001b[0m \u001b[0;34m\u001b[0m\u001b[0m\n\u001b[1;32m   1097\u001b[0m         \u001b[0;31m# TODO revise this, see https://github.com/urllib3/urllib3/issues/2791\u001b[0m\u001b[0;34m\u001b[0m\u001b[0;34m\u001b[0m\u001b[0m\n",
            "\u001b[0;32m/usr/local/lib/python3.10/dist-packages/urllib3/connection.py\u001b[0m in \u001b[0;36mconnect\u001b[0;34m(self)\u001b[0m\n\u001b[1;32m    691\u001b[0m         \u001b[0;32mtry\u001b[0m\u001b[0;34m:\u001b[0m\u001b[0;34m\u001b[0m\u001b[0;34m\u001b[0m\u001b[0m\n\u001b[1;32m    692\u001b[0m             \u001b[0msock\u001b[0m\u001b[0;34m:\u001b[0m \u001b[0msocket\u001b[0m\u001b[0;34m.\u001b[0m\u001b[0msocket\u001b[0m \u001b[0;34m|\u001b[0m \u001b[0mssl\u001b[0m\u001b[0;34m.\u001b[0m\u001b[0mSSLSocket\u001b[0m\u001b[0;34m\u001b[0m\u001b[0;34m\u001b[0m\u001b[0m\n\u001b[0;32m--> 693\u001b[0;31m             \u001b[0mself\u001b[0m\u001b[0;34m.\u001b[0m\u001b[0msock\u001b[0m \u001b[0;34m=\u001b[0m \u001b[0msock\u001b[0m \u001b[0;34m=\u001b[0m \u001b[0mself\u001b[0m\u001b[0;34m.\u001b[0m\u001b[0m_new_conn\u001b[0m\u001b[0;34m(\u001b[0m\u001b[0;34m)\u001b[0m\u001b[0;34m\u001b[0m\u001b[0;34m\u001b[0m\u001b[0m\n\u001b[0m\u001b[1;32m    694\u001b[0m             \u001b[0mserver_hostname\u001b[0m\u001b[0;34m:\u001b[0m \u001b[0mstr\u001b[0m \u001b[0;34m=\u001b[0m \u001b[0mself\u001b[0m\u001b[0;34m.\u001b[0m\u001b[0mhost\u001b[0m\u001b[0;34m\u001b[0m\u001b[0;34m\u001b[0m\u001b[0m\n\u001b[1;32m    695\u001b[0m             \u001b[0mtls_in_tls\u001b[0m \u001b[0;34m=\u001b[0m \u001b[0;32mFalse\u001b[0m\u001b[0;34m\u001b[0m\u001b[0;34m\u001b[0m\u001b[0m\n",
            "\u001b[0;32m/usr/local/lib/python3.10/dist-packages/urllib3/connection.py\u001b[0m in \u001b[0;36m_new_conn\u001b[0;34m(self)\u001b[0m\n\u001b[1;32m    197\u001b[0m         \"\"\"\n\u001b[1;32m    198\u001b[0m         \u001b[0;32mtry\u001b[0m\u001b[0;34m:\u001b[0m\u001b[0;34m\u001b[0m\u001b[0;34m\u001b[0m\u001b[0m\n\u001b[0;32m--> 199\u001b[0;31m             sock = connection.create_connection(\n\u001b[0m\u001b[1;32m    200\u001b[0m                 \u001b[0;34m(\u001b[0m\u001b[0mself\u001b[0m\u001b[0;34m.\u001b[0m\u001b[0m_dns_host\u001b[0m\u001b[0;34m,\u001b[0m \u001b[0mself\u001b[0m\u001b[0;34m.\u001b[0m\u001b[0mport\u001b[0m\u001b[0;34m)\u001b[0m\u001b[0;34m,\u001b[0m\u001b[0;34m\u001b[0m\u001b[0;34m\u001b[0m\u001b[0m\n\u001b[1;32m    201\u001b[0m                 \u001b[0mself\u001b[0m\u001b[0;34m.\u001b[0m\u001b[0mtimeout\u001b[0m\u001b[0;34m,\u001b[0m\u001b[0;34m\u001b[0m\u001b[0;34m\u001b[0m\u001b[0m\n",
            "\u001b[0;32m/usr/local/lib/python3.10/dist-packages/urllib3/util/connection.py\u001b[0m in \u001b[0;36mcreate_connection\u001b[0;34m(address, timeout, source_address, socket_options)\u001b[0m\n\u001b[1;32m     71\u001b[0m             \u001b[0;32mif\u001b[0m \u001b[0msource_address\u001b[0m\u001b[0;34m:\u001b[0m\u001b[0;34m\u001b[0m\u001b[0;34m\u001b[0m\u001b[0m\n\u001b[1;32m     72\u001b[0m                 \u001b[0msock\u001b[0m\u001b[0;34m.\u001b[0m\u001b[0mbind\u001b[0m\u001b[0;34m(\u001b[0m\u001b[0msource_address\u001b[0m\u001b[0;34m)\u001b[0m\u001b[0;34m\u001b[0m\u001b[0;34m\u001b[0m\u001b[0m\n\u001b[0;32m---> 73\u001b[0;31m             \u001b[0msock\u001b[0m\u001b[0;34m.\u001b[0m\u001b[0mconnect\u001b[0m\u001b[0;34m(\u001b[0m\u001b[0msa\u001b[0m\u001b[0;34m)\u001b[0m\u001b[0;34m\u001b[0m\u001b[0;34m\u001b[0m\u001b[0m\n\u001b[0m\u001b[1;32m     74\u001b[0m             \u001b[0;31m# Break explicitly a reference cycle\u001b[0m\u001b[0;34m\u001b[0m\u001b[0;34m\u001b[0m\u001b[0m\n\u001b[1;32m     75\u001b[0m             \u001b[0merr\u001b[0m \u001b[0;34m=\u001b[0m \u001b[0;32mNone\u001b[0m\u001b[0;34m\u001b[0m\u001b[0;34m\u001b[0m\u001b[0m\n",
            "\u001b[0;31mKeyboardInterrupt\u001b[0m: "
          ]
        }
      ],
      "source": [
        "main_url = f\"https://www.data.gov.in/catalog/schools-availability-infrastructure-and-facilities-school-management-and-school-category\"\n",
        "api_key = \"579b464db66ec23bdd000001cdd3946e44ce4aad7209ff7b23ac571b\"\n",
        "table_name = \"INFRASTRUCTURE_AVAILABILITY_AND_FACILITIES\"\n",
        "scrape_and_store(main_url, 200, table_name, api_key, ctx, cur, \"json\", \"200\")"
      ]
    },
    {
      "cell_type": "code",
      "execution_count": null,
      "metadata": {
        "id": "0UpEAMbRfsoB"
      },
      "outputs": [],
      "source": [
        "# Close the browser\n",
        "driver.quit()"
      ]
    }
  ],
  "metadata": {
    "colab": {
      "provenance": []
    },
    "kernelspec": {
      "display_name": "Python 3",
      "name": "python3"
    },
    "language_info": {
      "name": "python"
    }
  },
  "nbformat": 4,
  "nbformat_minor": 0
}